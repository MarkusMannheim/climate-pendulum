{
 "cells": [
  {
   "cell_type": "code",
   "execution_count": 40,
   "metadata": {},
   "outputs": [],
   "source": [
    "import pandas as pd\n",
    "\n",
    "def isNaN(x):\n",
    "    return x != x\n",
    "\n",
    "data1 = pd.read_csv(\"IDCJAC0001_070014_Data1.csv\")\n",
    "data1.to_csv(\"old_rain.csv\")\n",
    "data2 = pd.read_csv(\"IDCJAC0002_070014_Data1.csv\")\n",
    "data2.to_csv(\"old_temp.csv\")\n",
    "data3 = pd.read_csv(\"IDCJAC0001_070351_Data1.csv\")\n",
    "data3.to_csv(\"new_rain.csv\")\n",
    "data4 = pd.read_csv(\"IDCJAC0002_070351_Data1.csv\")\n",
    "data4.to_csv(\"new_temp.csv\")\n",
    "\n",
    "climate_data = pd.DataFrame(columns={\"rainfall\", \"max_temp\"})\n",
    "\n",
    "for i, row in data1.iterrows():\n",
    "    date = f\"{row.Year}-{str(row.Month).zfill(2)}\"\n",
    "    date = pd.to_datetime(date, format=\"%Y-%m\")\n",
    "    climate_data.loc[date, \"rainfall\"] = row[\"Monthly Precipitation Total (millimetres)\"]\n",
    "\n",
    "for i, row in data2.iterrows():\n",
    "    date = f\"{row.Year}-{str(row.Month).zfill(2)}\"\n",
    "    date = pd.to_datetime(date, format=\"%Y-%m\")\n",
    "    climate_data.loc[date, \"max_temp\"] = row[\"Mean maximum temperature (°C)\"]\n",
    "\n",
    "for i, row in data3.iterrows():\n",
    "    date = f\"{row.Year}-{str(row.Month).zfill(2)}\"\n",
    "    date = pd.to_datetime(date, format=\"%Y-%m\")\n",
    "    climate_data.loc[date, \"rainfall\"] = row[\"Monthly Precipitation Total (millimetres)\"]\n",
    "\n",
    "for i, row in data4.iterrows():\n",
    "    date = f\"{row.Year}-{str(row.Month).zfill(2)}\"\n",
    "    date = pd.to_datetime(date, format=\"%Y-%m\")\n",
    "    climate_data.loc[date, \"max_temp\"] = row[\"Mean maximum temperature (°C)\"]\n",
    "\n",
    "new_data = climate_data[climate_data.index > pd.to_datetime(\"1970-12\", format=\"%Y-%m\")]\n",
    "new_data.to_csv(\"climate_data.csv\", index_label=\"date\")"
   ]
  },
  {
   "cell_type": "code",
   "execution_count": 41,
   "metadata": {},
   "outputs": [],
   "source": [
    "soi_data = pd.read_csv(\"soi_monthly.txt\", header=None, names=[\"month\", \"soi\"])\n",
    "soi_data[\"month\"] = pd.to_datetime(soi_data[\"month\"], format=\"%Y%m\")\n",
    "\n",
    "soi_mean = []\n",
    "for i in soi_data.index:\n",
    "    soi_mean.append(round(soi_data.loc[i - 5:i].soi.mean(), 1))\n",
    "\n",
    "soi_data[\"mean\"] = soi_mean\n",
    "\n",
    "soi_data[soi_data[\"month\"] > pd.to_datetime(\"1970-12\", format=\"%Y-%m\")].to_csv(\"soi_data.csv\", index=False)"
   ]
  },
  {
   "cell_type": "code",
   "execution_count": null,
   "metadata": {},
   "outputs": [],
   "source": []
  }
 ],
 "metadata": {
  "kernelspec": {
   "display_name": "Python 3",
   "language": "python",
   "name": "python3"
  },
  "language_info": {
   "codemirror_mode": {
    "name": "ipython",
    "version": 3
   },
   "file_extension": ".py",
   "mimetype": "text/x-python",
   "name": "python",
   "nbconvert_exporter": "python",
   "pygments_lexer": "ipython3",
   "version": "3.9.0"
  }
 },
 "nbformat": 4,
 "nbformat_minor": 4
}
