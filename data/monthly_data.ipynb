{
 "cells": [
  {
   "cell_type": "code",
   "execution_count": 1,
   "metadata": {},
   "outputs": [],
   "source": [
    "import pandas as pd\n",
    "\n",
    "def isNaN(x):\n",
    "    return x != x\n",
    "\n",
    "data1 = pd.read_csv(\"IDCJAC0001_070014_Data1.csv\")\n",
    "data1.to_csv(\"old_rain.csv\")\n",
    "data2 = pd.read_csv(\"IDCJAC0002_070014_Data1.csv\")\n",
    "data2.to_csv(\"old_temp.csv\")\n",
    "data3 = pd.read_csv(\"IDCJAC0001_070351_Data1.csv\")\n",
    "data3.to_csv(\"new_rain.csv\")\n",
    "data4 = pd.read_csv(\"IDCJAC0002_070351_Data1.csv\")\n",
    "data4.to_csv(\"new_temp.csv\")\n",
    "\n",
    "climate_data = pd.DataFrame(columns={\"rainfall\", \"max_temp\"})\n",
    "\n",
    "for i, row in data1.iterrows():\n",
    "    date = f\"{row.Year}-{str(row.Month).zfill(2)}\"\n",
    "    date = pd.to_datetime(date, format=\"%Y-%m\")\n",
    "    climate_data.loc[date, \"rainfall\"] = row[\"Monthly Precipitation Total (millimetres)\"]\n",
    "\n",
    "for i, row in data2.iterrows():\n",
    "    date = f\"{row.Year}-{str(row.Month).zfill(2)}\"\n",
    "    date = pd.to_datetime(date, format=\"%Y-%m\")\n",
    "    climate_data.loc[date, \"max_temp\"] = row[\"Mean maximum temperature (°C)\"]\n",
    "\n",
    "for i, row in data3.iterrows():\n",
    "    date = f\"{row.Year}-{str(row.Month).zfill(2)}\"\n",
    "    date = pd.to_datetime(date, format=\"%Y-%m\")\n",
    "    climate_data.loc[date, \"rainfall\"] = row[\"Monthly Precipitation Total (millimetres)\"]\n",
    "\n",
    "for i, row in data4.iterrows():\n",
    "    date = f\"{row.Year}-{str(row.Month).zfill(2)}\"\n",
    "    date = pd.to_datetime(date, format=\"%Y-%m\")\n",
    "    climate_data.loc[date, \"max_temp\"] = row[\"Mean maximum temperature (°C)\"]\n",
    "\n",
    "climate_data[climate_data.index > pd.to_datetime(\"1970-12\", format=\"%Y-%m\")].to_csv(\"climate_data.csv\", index_label=\"date\")"
   ]
  },
  {
   "cell_type": "code",
   "execution_count": 15,
   "metadata": {},
   "outputs": [],
   "source": [
    "soi_data = pd.read_csv(\"soi_monthly.txt\", header=None, names=[\"month\", \"soi\"])\n",
    "soi_data[\"month\"] = pd.to_datetime(soi_data[\"month\"], format=\"%Y%m\")\n",
    "\n",
    "soi_mean = []\n",
    "for i in soi_data.index:\n",
    "    soi_mean.append(round(soi_data.loc[i - 5:i].soi.mean(), 1))\n",
    "\n",
    "soi_data[\"mean\"] = soi_mean\n",
    "\n",
    "soi_data[soi_data[\"month\"] > pd.to_datetime(\"1970-12\", format=\"%Y-%m\")].to_csv(\"soi_data.csv\", index=False)"
   ]
  },
  {
   "cell_type": "code",
   "execution_count": 3,
   "metadata": {},
   "outputs": [
    {
     "data": {
      "text/html": [
       "<div>\n",
       "<style scoped>\n",
       "    .dataframe tbody tr th:only-of-type {\n",
       "        vertical-align: middle;\n",
       "    }\n",
       "\n",
       "    .dataframe tbody tr th {\n",
       "        vertical-align: top;\n",
       "    }\n",
       "\n",
       "    .dataframe thead th {\n",
       "        text-align: right;\n",
       "    }\n",
       "</style>\n",
       "<table border=\"1\" class=\"dataframe\">\n",
       "  <thead>\n",
       "    <tr style=\"text-align: right;\">\n",
       "      <th></th>\n",
       "      <th>rainfall</th>\n",
       "      <th>max_temp</th>\n",
       "    </tr>\n",
       "  </thead>\n",
       "  <tbody>\n",
       "    <tr>\n",
       "      <th>1939-03-01</th>\n",
       "      <td>94.7</td>\n",
       "      <td>21.7</td>\n",
       "    </tr>\n",
       "    <tr>\n",
       "      <th>1939-04-01</th>\n",
       "      <td>75</td>\n",
       "      <td>18.8</td>\n",
       "    </tr>\n",
       "    <tr>\n",
       "      <th>1939-05-01</th>\n",
       "      <td>21.5</td>\n",
       "      <td>17.3</td>\n",
       "    </tr>\n",
       "    <tr>\n",
       "      <th>1939-06-01</th>\n",
       "      <td>57.7</td>\n",
       "      <td>11.4</td>\n",
       "    </tr>\n",
       "    <tr>\n",
       "      <th>1939-07-01</th>\n",
       "      <td>33.3</td>\n",
       "      <td>10.1</td>\n",
       "    </tr>\n",
       "    <tr>\n",
       "      <th>...</th>\n",
       "      <td>...</td>\n",
       "      <td>...</td>\n",
       "    </tr>\n",
       "    <tr>\n",
       "      <th>2020-08-01</th>\n",
       "      <td>105.8</td>\n",
       "      <td>12.8</td>\n",
       "    </tr>\n",
       "    <tr>\n",
       "      <th>2020-09-01</th>\n",
       "      <td>40.4</td>\n",
       "      <td>17.6</td>\n",
       "    </tr>\n",
       "    <tr>\n",
       "      <th>2020-10-01</th>\n",
       "      <td>133.6</td>\n",
       "      <td>20.3</td>\n",
       "    </tr>\n",
       "    <tr>\n",
       "      <th>2020-11-01</th>\n",
       "      <td>93</td>\n",
       "      <td>25.1</td>\n",
       "    </tr>\n",
       "    <tr>\n",
       "      <th>2020-12-01</th>\n",
       "      <td>41.4</td>\n",
       "      <td>25.4</td>\n",
       "    </tr>\n",
       "  </tbody>\n",
       "</table>\n",
       "<p>982 rows × 2 columns</p>\n",
       "</div>"
      ],
      "text/plain": [
       "           rainfall max_temp\n",
       "1939-03-01     94.7     21.7\n",
       "1939-04-01       75     18.8\n",
       "1939-05-01     21.5     17.3\n",
       "1939-06-01     57.7     11.4\n",
       "1939-07-01     33.3     10.1\n",
       "...             ...      ...\n",
       "2020-08-01    105.8     12.8\n",
       "2020-09-01     40.4     17.6\n",
       "2020-10-01    133.6     20.3\n",
       "2020-11-01       93     25.1\n",
       "2020-12-01     41.4     25.4\n",
       "\n",
       "[982 rows x 2 columns]"
      ]
     },
     "execution_count": 3,
     "metadata": {},
     "output_type": "execute_result"
    }
   ],
   "source": [
    "climate_data"
   ]
  },
  {
   "cell_type": "code",
   "execution_count": 12,
   "metadata": {},
   "outputs": [
    {
     "data": {
      "text/plain": [
       "614.5099796334023"
      ]
     },
     "execution_count": 12,
     "metadata": {},
     "output_type": "execute_result"
    }
   ],
   "source": [
    "climate_data.mean().rainfall*12"
   ]
  },
  {
   "cell_type": "code",
   "execution_count": 14,
   "metadata": {},
   "outputs": [
    {
     "data": {
      "text/plain": [
       "790.0"
      ]
     },
     "execution_count": 14,
     "metadata": {},
     "output_type": "execute_result"
    }
   ],
   "source": [
    "climate_data.tail(12).sum().rainfall"
   ]
  },
  {
   "cell_type": "code",
   "execution_count": null,
   "metadata": {},
   "outputs": [],
   "source": []
  }
 ],
 "metadata": {
  "kernelspec": {
   "display_name": "Python 3",
   "language": "python",
   "name": "python3"
  },
  "language_info": {
   "codemirror_mode": {
    "name": "ipython",
    "version": 3
   },
   "file_extension": ".py",
   "mimetype": "text/x-python",
   "name": "python",
   "nbconvert_exporter": "python",
   "pygments_lexer": "ipython3",
   "version": "3.9.0"
  }
 },
 "nbformat": 4,
 "nbformat_minor": 4
}
